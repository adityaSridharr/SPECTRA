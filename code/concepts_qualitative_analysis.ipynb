{
 "cells": [
  {
   "cell_type": "code",
   "execution_count": 1,
   "metadata": {},
   "outputs": [],
   "source": [
    "import torch\n",
    "import torch.nn as nn\n",
    "import torch.optim as optim\n",
    "from torchvision import datasets, transforms, models\n",
    "from torch.utils.data import DataLoader, Dataset\n",
    "import os\n",
    "import pandas as pd\n",
    "import matplotlib.pyplot as plt\n",
    "from PIL import Image\n",
    "\n",
    "import torch.nn.functional as F\n",
    "import numpy as np\n",
    "import torch.utils.data as Data\n",
    "import torchvision      \n",
    "import os\n"
   ]
  },
  {
   "cell_type": "code",
   "execution_count": 2,
   "metadata": {},
   "outputs": [
    {
     "name": "stdout",
     "output_type": "stream",
     "text": [
      "Files already downloaded and verified\n"
     ]
    },
    {
     "ename": "KeyboardInterrupt",
     "evalue": "",
     "output_type": "error",
     "traceback": [
      "\u001b[0;31m---------------------------------------------------------------------------\u001b[0m",
      "\u001b[0;31mKeyboardInterrupt\u001b[0m                         Traceback (most recent call last)",
      "Cell \u001b[0;32mIn[2], line 1\u001b[0m\n\u001b[0;32m----> 1\u001b[0m \u001b[38;5;28;01mfrom\u001b[39;00m \u001b[38;5;21;01mconcepts_func\u001b[39;00m \u001b[38;5;28;01mimport\u001b[39;00m Classifier, InterpretableClassifier, args, load_data\n",
      "File \u001b[0;32m/mnt/e/Aditya/IIT_Hyderabad/Assignments/XML/New_Method/concepts_func.py:287\u001b[0m\n\u001b[1;32m    284\u001b[0m                 plt\u001b[38;5;241m.\u001b[39msavefig(\u001b[38;5;124mf\u001b[39m\u001b[38;5;124m\"\u001b[39m\u001b[38;5;124mimages/activation_\u001b[39m\u001b[38;5;132;01m{\u001b[39;00mi\u001b[38;5;132;01m}\u001b[39;00m\u001b[38;5;124m.png\u001b[39m\u001b[38;5;124m\"\u001b[39m)\n\u001b[1;32m    285\u001b[0m             \u001b[38;5;28;01mbreak\u001b[39;00m  \u001b[38;5;66;03m# Only visualize one batch\u001b[39;00m\n\u001b[0;32m--> 287\u001b[0m train_loader, test_loader, train_dataset, test_dataset \u001b[38;5;241m=\u001b[39m \u001b[43mload_data\u001b[49m\u001b[43m(\u001b[49m\u001b[43margs\u001b[49m\u001b[43m)\u001b[49m\n\u001b[1;32m    288\u001b[0m model \u001b[38;5;241m=\u001b[39m InterpretableClassifier(num_classes\u001b[38;5;241m=\u001b[39m\u001b[38;5;241m10\u001b[39m)\n\u001b[1;32m    289\u001b[0m criterion \u001b[38;5;241m=\u001b[39m nn\u001b[38;5;241m.\u001b[39mCrossEntropyLoss()\n",
      "File \u001b[0;32m/mnt/e/Aditya/IIT_Hyderabad/Assignments/XML/New_Method/concepts_func.py:63\u001b[0m, in \u001b[0;36mload_data\u001b[0;34m(args)\u001b[0m\n\u001b[1;32m     60\u001b[0m train_dataset \u001b[38;5;241m=\u001b[39m datasets\u001b[38;5;241m.\u001b[39mCIFAR10(root\u001b[38;5;241m=\u001b[39m\u001b[38;5;124m'\u001b[39m\u001b[38;5;124m./data\u001b[39m\u001b[38;5;124m'\u001b[39m, train\u001b[38;5;241m=\u001b[39m\u001b[38;5;28;01mTrue\u001b[39;00m, transform\u001b[38;5;241m=\u001b[39mtransform, download\u001b[38;5;241m=\u001b[39m\u001b[38;5;28;01mTrue\u001b[39;00m)\n\u001b[1;32m     61\u001b[0m train_loader \u001b[38;5;241m=\u001b[39m torch\u001b[38;5;241m.\u001b[39mutils\u001b[38;5;241m.\u001b[39mdata\u001b[38;5;241m.\u001b[39mDataLoader(train_dataset, batch_size\u001b[38;5;241m=\u001b[39margs[\u001b[38;5;124m\"\u001b[39m\u001b[38;5;124mbatch_size\u001b[39m\u001b[38;5;124m\"\u001b[39m], shuffle\u001b[38;5;241m=\u001b[39m\u001b[38;5;28;01mFalse\u001b[39;00m)\n\u001b[0;32m---> 63\u001b[0m test_dataset \u001b[38;5;241m=\u001b[39m \u001b[43mdatasets\u001b[49m\u001b[38;5;241;43m.\u001b[39;49m\u001b[43mCIFAR10\u001b[49m\u001b[43m(\u001b[49m\u001b[43mroot\u001b[49m\u001b[38;5;241;43m=\u001b[39;49m\u001b[38;5;124;43m'\u001b[39;49m\u001b[38;5;124;43m./data\u001b[39;49m\u001b[38;5;124;43m'\u001b[39;49m\u001b[43m,\u001b[49m\u001b[43m \u001b[49m\u001b[43mtrain\u001b[49m\u001b[38;5;241;43m=\u001b[39;49m\u001b[38;5;28;43;01mFalse\u001b[39;49;00m\u001b[43m,\u001b[49m\u001b[43m \u001b[49m\u001b[43mtransform\u001b[49m\u001b[38;5;241;43m=\u001b[39;49m\u001b[43mtransform\u001b[49m\u001b[43m)\u001b[49m\n\u001b[1;32m     64\u001b[0m test_loader \u001b[38;5;241m=\u001b[39m torch\u001b[38;5;241m.\u001b[39mutils\u001b[38;5;241m.\u001b[39mdata\u001b[38;5;241m.\u001b[39mDataLoader(test_dataset, batch_size\u001b[38;5;241m=\u001b[39margs[\u001b[38;5;124m\"\u001b[39m\u001b[38;5;124mbatch_size\u001b[39m\u001b[38;5;124m\"\u001b[39m], shuffle\u001b[38;5;241m=\u001b[39m\u001b[38;5;28;01mFalse\u001b[39;00m)\n\u001b[1;32m     65\u001b[0m \u001b[38;5;28;01mreturn\u001b[39;00m train_loader, test_loader, train_dataset, test_dataset\n",
      "File \u001b[0;32m~/.local/lib/python3.10/site-packages/torchvision/datasets/cifar.py:68\u001b[0m, in \u001b[0;36mCIFAR10.__init__\u001b[0;34m(self, root, train, transform, target_transform, download)\u001b[0m\n\u001b[1;32m     65\u001b[0m \u001b[38;5;28;01mif\u001b[39;00m download:\n\u001b[1;32m     66\u001b[0m     \u001b[38;5;28mself\u001b[39m\u001b[38;5;241m.\u001b[39mdownload()\n\u001b[0;32m---> 68\u001b[0m \u001b[38;5;28;01mif\u001b[39;00m \u001b[38;5;129;01mnot\u001b[39;00m \u001b[38;5;28;43mself\u001b[39;49m\u001b[38;5;241;43m.\u001b[39;49m\u001b[43m_check_integrity\u001b[49m\u001b[43m(\u001b[49m\u001b[43m)\u001b[49m:\n\u001b[1;32m     69\u001b[0m     \u001b[38;5;28;01mraise\u001b[39;00m \u001b[38;5;167;01mRuntimeError\u001b[39;00m(\u001b[38;5;124m\"\u001b[39m\u001b[38;5;124mDataset not found or corrupted. You can use download=True to download it\u001b[39m\u001b[38;5;124m\"\u001b[39m)\n\u001b[1;32m     71\u001b[0m \u001b[38;5;28;01mif\u001b[39;00m \u001b[38;5;28mself\u001b[39m\u001b[38;5;241m.\u001b[39mtrain:\n",
      "File \u001b[0;32m~/.local/lib/python3.10/site-packages/torchvision/datasets/cifar.py:132\u001b[0m, in \u001b[0;36mCIFAR10._check_integrity\u001b[0;34m(self)\u001b[0m\n\u001b[1;32m    130\u001b[0m \u001b[38;5;28;01mfor\u001b[39;00m filename, md5 \u001b[38;5;129;01min\u001b[39;00m \u001b[38;5;28mself\u001b[39m\u001b[38;5;241m.\u001b[39mtrain_list \u001b[38;5;241m+\u001b[39m \u001b[38;5;28mself\u001b[39m\u001b[38;5;241m.\u001b[39mtest_list:\n\u001b[1;32m    131\u001b[0m     fpath \u001b[38;5;241m=\u001b[39m os\u001b[38;5;241m.\u001b[39mpath\u001b[38;5;241m.\u001b[39mjoin(\u001b[38;5;28mself\u001b[39m\u001b[38;5;241m.\u001b[39mroot, \u001b[38;5;28mself\u001b[39m\u001b[38;5;241m.\u001b[39mbase_folder, filename)\n\u001b[0;32m--> 132\u001b[0m     \u001b[38;5;28;01mif\u001b[39;00m \u001b[38;5;129;01mnot\u001b[39;00m \u001b[43mcheck_integrity\u001b[49m\u001b[43m(\u001b[49m\u001b[43mfpath\u001b[49m\u001b[43m,\u001b[49m\u001b[43m \u001b[49m\u001b[43mmd5\u001b[49m\u001b[43m)\u001b[49m:\n\u001b[1;32m    133\u001b[0m         \u001b[38;5;28;01mreturn\u001b[39;00m \u001b[38;5;28;01mFalse\u001b[39;00m\n\u001b[1;32m    134\u001b[0m \u001b[38;5;28;01mreturn\u001b[39;00m \u001b[38;5;28;01mTrue\u001b[39;00m\n",
      "File \u001b[0;32m~/.local/lib/python3.10/site-packages/torchvision/datasets/utils.py:58\u001b[0m, in \u001b[0;36mcheck_integrity\u001b[0;34m(fpath, md5)\u001b[0m\n\u001b[1;32m     56\u001b[0m \u001b[38;5;28;01mif\u001b[39;00m md5 \u001b[38;5;129;01mis\u001b[39;00m \u001b[38;5;28;01mNone\u001b[39;00m:\n\u001b[1;32m     57\u001b[0m     \u001b[38;5;28;01mreturn\u001b[39;00m \u001b[38;5;28;01mTrue\u001b[39;00m\n\u001b[0;32m---> 58\u001b[0m \u001b[38;5;28;01mreturn\u001b[39;00m \u001b[43mcheck_md5\u001b[49m\u001b[43m(\u001b[49m\u001b[43mfpath\u001b[49m\u001b[43m,\u001b[49m\u001b[43m \u001b[49m\u001b[43mmd5\u001b[49m\u001b[43m)\u001b[49m\n",
      "File \u001b[0;32m~/.local/lib/python3.10/site-packages/torchvision/datasets/utils.py:50\u001b[0m, in \u001b[0;36mcheck_md5\u001b[0;34m(fpath, md5, **kwargs)\u001b[0m\n\u001b[1;32m     49\u001b[0m \u001b[38;5;28;01mdef\u001b[39;00m \u001b[38;5;21mcheck_md5\u001b[39m(fpath: Union[\u001b[38;5;28mstr\u001b[39m, pathlib\u001b[38;5;241m.\u001b[39mPath], md5: \u001b[38;5;28mstr\u001b[39m, \u001b[38;5;241m*\u001b[39m\u001b[38;5;241m*\u001b[39mkwargs: Any) \u001b[38;5;241m-\u001b[39m\u001b[38;5;241m>\u001b[39m \u001b[38;5;28mbool\u001b[39m:\n\u001b[0;32m---> 50\u001b[0m     \u001b[38;5;28;01mreturn\u001b[39;00m md5 \u001b[38;5;241m==\u001b[39m \u001b[43mcalculate_md5\u001b[49m\u001b[43m(\u001b[49m\u001b[43mfpath\u001b[49m\u001b[43m,\u001b[49m\u001b[43m \u001b[49m\u001b[38;5;241;43m*\u001b[39;49m\u001b[38;5;241;43m*\u001b[39;49m\u001b[43mkwargs\u001b[49m\u001b[43m)\u001b[49m\n",
      "File \u001b[0;32m~/.local/lib/python3.10/site-packages/torchvision/datasets/utils.py:44\u001b[0m, in \u001b[0;36mcalculate_md5\u001b[0;34m(fpath, chunk_size)\u001b[0m\n\u001b[1;32m     42\u001b[0m     md5 \u001b[38;5;241m=\u001b[39m hashlib\u001b[38;5;241m.\u001b[39mmd5()\n\u001b[1;32m     43\u001b[0m \u001b[38;5;28;01mwith\u001b[39;00m \u001b[38;5;28mopen\u001b[39m(fpath, \u001b[38;5;124m\"\u001b[39m\u001b[38;5;124mrb\u001b[39m\u001b[38;5;124m\"\u001b[39m) \u001b[38;5;28;01mas\u001b[39;00m f:\n\u001b[0;32m---> 44\u001b[0m     \u001b[38;5;28;01mwhile\u001b[39;00m chunk \u001b[38;5;241m:=\u001b[39m \u001b[43mf\u001b[49m\u001b[38;5;241;43m.\u001b[39;49m\u001b[43mread\u001b[49m\u001b[43m(\u001b[49m\u001b[43mchunk_size\u001b[49m\u001b[43m)\u001b[49m:\n\u001b[1;32m     45\u001b[0m         md5\u001b[38;5;241m.\u001b[39mupdate(chunk)\n\u001b[1;32m     46\u001b[0m \u001b[38;5;28;01mreturn\u001b[39;00m md5\u001b[38;5;241m.\u001b[39mhexdigest()\n",
      "\u001b[0;31mKeyboardInterrupt\u001b[0m: "
     ]
    }
   ],
   "source": [
    "from concepts_func import Classifier, InterpretableClassifier, args, load_data"
   ]
  },
  {
   "cell_type": "code",
   "execution_count": 3,
   "metadata": {},
   "outputs": [],
   "source": [
    "model_save_path = 'models/interpretable_classifier_weights.pth'"
   ]
  },
  {
   "cell_type": "code",
   "execution_count": 4,
   "metadata": {},
   "outputs": [
    {
     "name": "stdout",
     "output_type": "stream",
     "text": [
      "Downloading https://www.cs.toronto.edu/~kriz/cifar-10-python.tar.gz to ./data/cifar-10-python.tar.gz\n"
     ]
    },
    {
     "name": "stderr",
     "output_type": "stream",
     "text": [
      "100%|██████████| 170498071/170498071 [00:46<00:00, 3688285.99it/s]\n"
     ]
    },
    {
     "name": "stdout",
     "output_type": "stream",
     "text": [
      "Extracting ./data/cifar-10-python.tar.gz to ./data\n"
     ]
    }
   ],
   "source": [
    "train_loader, test_loader, train_dataset, test_dataset  = load_data(args)"
   ]
  },
  {
   "cell_type": "code",
   "execution_count": 5,
   "metadata": {},
   "outputs": [
    {
     "name": "stderr",
     "output_type": "stream",
     "text": [
      "/tmp/ipykernel_21996/892967407.py:2: FutureWarning: You are using `torch.load` with `weights_only=False` (the current default value), which uses the default pickle module implicitly. It is possible to construct malicious pickle data which will execute arbitrary code during unpickling (See https://github.com/pytorch/pytorch/blob/main/SECURITY.md#untrusted-models for more details). In a future release, the default value for `weights_only` will be flipped to `True`. This limits the functions that could be executed during unpickling. Arbitrary objects will no longer be allowed to be loaded via this mode unless they are explicitly allowlisted by the user via `torch.serialization.add_safe_globals`. We recommend you start setting `weights_only=True` for any use case where you don't have full control of the loaded file. Please open an issue on GitHub for any issues related to this experimental feature.\n",
      "  classifier.load_state_dict(torch.load(model_save_path))\n"
     ]
    }
   ],
   "source": [
    "classifier = InterpretableClassifier()\n",
    "classifier.load_state_dict(torch.load(model_save_path))\n",
    "\n",
    "# Switch model to evaluation mode\n",
    "classifier.eval()\n",
    "\n",
    "# Get a batch of test images\n",
    "test_images, _ = next(iter(test_loader))"
   ]
  },
  {
   "cell_type": "code",
   "execution_count": 144,
   "metadata": {},
   "outputs": [
    {
     "data": {
      "text/plain": [
       "'\\nclass Classifier(nn.Module):\\n    def __init__(self):\\n        super(Classifier, self).__init__()\\n        \\n        # Convolutional layers\\n        self.conv1 = nn.Conv2d(3, 16, kernel_size=3, padding=1)  # Input channels = 3 (RGB), Output channels = 32\\n        self.conv2 = nn.Conv2d(16, 32, kernel_size=3, padding=1)  # Output channels = 64\\n        self.conv3 = nn.Conv2d(32, 64, kernel_size=3, padding=1)  # Output channels = 128\\n        self.conv4 = nn.Conv2d(64, 128, kernel_size=3, padding=1)  # Output channels = 256\\n\\n        # Max pooling layer\\n        self.pool = nn.MaxPool2d(2, 2)\\n        \\n        # Fully connected (dense) layer\\n        self.fc = nn.Linear(128 * 2 * 2, 10)  # CIFAR-10 has 10 classes, 256 channels with 2x2 spatial size after pooling\\n        \\n    def forward(self, x):\\n        # Apply convolutions and max-pooling\\n        x = self.pool(F.relu(self.conv1(x)))  # (B, 32, 32, 32) -> (B, 32, 16, 16)\\n        x = self.pool(F.relu(self.conv2(x)))  # (B, 32, 16, 16) -> (B, 64, 8, 8)\\n        x = self.pool(F.relu(self.conv3(x)))  # (B, 64, 8, 8) -> (B, 128, 4, 4)\\n        x = self.pool(F.relu(self.conv4(x)))  # (B, 128, 4, 4) -> (B, 256, 2, 2)\\n\\n        # Flatten the output before the classification layer\\n        x_flat = x.view(x.size(0), -1)  # Flatten the tensor to (B, 256 * 2 * 2)\\n        \\n        # Classification output\\n        class_output = self.fc(x_flat)  # (B, 10) - 10 classes\\n        \\n        # Return the output before the classification layer (conv4 output) and the classification output\\n        return x, class_output\\n'"
      ]
     },
     "execution_count": 144,
     "metadata": {},
     "output_type": "execute_result"
    }
   ],
   "source": [
    "\"\"\"\n",
    "class Classifier(nn.Module):\n",
    "    def __init__(self):\n",
    "        super(Classifier, self).__init__()\n",
    "        \n",
    "        # Convolutional layers\n",
    "        self.conv1 = nn.Conv2d(3, 16, kernel_size=3, padding=1)  # Input channels = 3 (RGB), Output channels = 32\n",
    "        self.conv2 = nn.Conv2d(16, 32, kernel_size=3, padding=1)  # Output channels = 64\n",
    "        self.conv3 = nn.Conv2d(32, 64, kernel_size=3, padding=1)  # Output channels = 128\n",
    "        self.conv4 = nn.Conv2d(64, 128, kernel_size=3, padding=1)  # Output channels = 256\n",
    "\n",
    "        # Max pooling layer\n",
    "        self.pool = nn.MaxPool2d(2, 2)\n",
    "        \n",
    "        # Fully connected (dense) layer\n",
    "        self.fc = nn.Linear(128 * 2 * 2, 10)  # CIFAR-10 has 10 classes, 256 channels with 2x2 spatial size after pooling\n",
    "        \n",
    "    def forward(self, x):\n",
    "        # Apply convolutions and max-pooling\n",
    "        x = self.pool(F.relu(self.conv1(x)))  # (B, 32, 32, 32) -> (B, 32, 16, 16)\n",
    "        x = self.pool(F.relu(self.conv2(x)))  # (B, 32, 16, 16) -> (B, 64, 8, 8)\n",
    "        x = self.pool(F.relu(self.conv3(x)))  # (B, 64, 8, 8) -> (B, 128, 4, 4)\n",
    "        x = self.pool(F.relu(self.conv4(x)))  # (B, 128, 4, 4) -> (B, 256, 2, 2)\n",
    "\n",
    "        # Flatten the output before the classification layer\n",
    "        x_flat = x.view(x.size(0), -1)  # Flatten the tensor to (B, 256 * 2 * 2)\n",
    "        \n",
    "        # Classification output\n",
    "        class_output = self.fc(x_flat)  # (B, 10) - 10 classes\n",
    "        \n",
    "        # Return the output before the classification layer (conv4 output) and the classification output\n",
    "        return x, class_output\n",
    "\"\"\""
   ]
  },
  {
   "cell_type": "code",
   "execution_count": 6,
   "metadata": {},
   "outputs": [],
   "source": [
    "def calculate_full_gradients(model, image):\n",
    "    # Ensure the image requires gradients\n",
    "    image.requires_grad = True\n",
    "\n",
    "    # Forward pass to get the last-but-one layer output\n",
    "    last_but_one_output, _ = model(image)\n",
    "\n",
    "    # Prepare tensors to hold the gradients\n",
    "    grad_image_wrt_last_but_one = torch.zeros(\n",
    "        (last_but_one_output.size(1), last_but_one_output.size(2), last_but_one_output.size(3), \n",
    "         image.size(0), image.size(1), image.size(2), image.size(3))\n",
    "    )  # Shape: (128, 2, 2, 1, 3, 32, 32)\n",
    "\n",
    "    grad_last_but_one_wrt_image = torch.zeros(\n",
    "        (image.size(0), image.size(1), image.size(2), image.size(3), \n",
    "         last_but_one_output.size(1), last_but_one_output.size(2), last_but_one_output.size(3))\n",
    "    )  # Shape: (1, 3, 32, 32, 128, 2, 2)\n",
    "\n",
    "    # Loop over each spatial position and channel of last_but_one_output\n",
    "    for c in range(last_but_one_output.size(1)):\n",
    "        for h in range(last_but_one_output.size(2)):\n",
    "            for w in range(last_but_one_output.size(3)):\n",
    "                # Zero gradients\n",
    "                model.zero_grad()\n",
    "                if image.grad is not None:\n",
    "                    image.grad.zero_()\n",
    "\n",
    "                # Get the scalar output for each position in the last-but-one layer output\n",
    "                scalar_output = last_but_one_output[0, c, h, w]\n",
    "\n",
    "                # Compute gradient of this scalar with respect to the input image\n",
    "                scalar_output.backward(retain_graph=True)\n",
    "\n",
    "                # Store the gradients\n",
    "                grad_image_wrt_last_but_one[c, h, w] = image.grad.clone()  # Shape: (1, 3, 32, 32)\n",
    "\n",
    "                # Accumulate the gradient of last-but-one layer with respect to the input image\n",
    "                grad_last_but_one_wrt_image[:, :, :, :, c, h, w] = image.grad.clone()\n",
    "\n",
    "    return grad_image_wrt_last_but_one, grad_last_but_one_wrt_image"
   ]
  },
  {
   "cell_type": "code",
   "execution_count": 7,
   "metadata": {},
   "outputs": [],
   "source": [
    "def all_required_gradients(input_idx):\n",
    "    # Get the input image\n",
    "    input_image = test_images[input_idx].unsqueeze(0)\n",
    "\n",
    "    # Calculate the gradients\n",
    "    grad_image_wrt_last_but_one, grad_last_but_one_wrt_image = calculate_full_gradients(classifier, input_image)\n",
    "    grad_image_sum_wrt_last_but_one = grad_image_wrt_last_but_one.sum(dim=(1, 2)).squeeze(0)\n",
    "\n",
    "    return grad_image_wrt_last_but_one, grad_last_but_one_wrt_image, grad_image_sum_wrt_last_but_one"
   ]
  },
  {
   "cell_type": "markdown",
   "metadata": {},
   "source": [
    "## Visualizing Features"
   ]
  },
  {
   "cell_type": "code",
   "execution_count": 176,
   "metadata": {},
   "outputs": [],
   "source": [
    "import random\n",
    "random_index = random.randint(0, test_images.size(0) - 1)\n",
    "grad_image_wrt_last_but_one, grad_last_but_one_wrt_image, grad_image_sum_wrt_last_but_one = all_required_gradients(random_index)"
   ]
  },
  {
   "cell_type": "code",
   "execution_count": 178,
   "metadata": {},
   "outputs": [
    {
     "data": {
      "image/png": "[encoded data removed]",
      "text/plain": [
       "<Figure size 640x480 with 1 Axes>"
      ]
     },
     "metadata": {},
     "output_type": "display_data"
    }
   ],
   "source": [
    "# Plot the image and print its predicted class\n",
    "plt.imshow(test_images[random_index].permute(1, 2, 0))\n",
    "plt.title(f'Predicted class: {classifier(test_images[random_index].unsqueeze(0))[1].argmax()}')\n",
    "plt.axis('off')\n",
    "plt.show()"
   ]
  },
  {
   "cell_type": "code",
   "execution_count": 179,
   "metadata": {},
   "outputs": [
    {
     "name": "stdout",
     "output_type": "stream",
     "text": [
      "Defaulting to user installation because normal site-packages is not writeable\n",
      "Requirement already satisfied: cvxpy in /home/aditya_sridhar/.local/lib/python3.10/site-packages (1.6.0)\n",
      "Requirement already satisfied: numpy>=1.20 in /home/aditya_sridhar/.local/lib/python3.10/site-packages (from cvxpy) (1.26.4)\n",
      "Requirement already satisfied: scipy>=1.1.0 in /home/aditya_sridhar/.local/lib/python3.10/site-packages (from cvxpy) (1.13.1)\n",
      "Requirement already satisfied: clarabel>=0.5.0 in /home/aditya_sridhar/.local/lib/python3.10/site-packages (from cvxpy) (0.9.0)\n",
      "Requirement already satisfied: scs>=3.2.4.post1 in /home/aditya_sridhar/.local/lib/python3.10/site-packages (from cvxpy) (3.2.7)\n",
      "Requirement already satisfied: osqp>=0.6.2 in /home/aditya_sridhar/.local/lib/python3.10/site-packages (from cvxpy) (0.6.7.post3)\n",
      "Requirement already satisfied: qdldl in /home/aditya_sridhar/.local/lib/python3.10/site-packages (from osqp>=0.6.2->cvxpy) (0.1.7.post4)\n"
     ]
    }
   ],
   "source": [
    "!pip install cvxpy"
   ]
  },
  {
   "cell_type": "code",
   "execution_count": 216,
   "metadata": {},
   "outputs": [],
   "source": [
    "cifar_10_class_names = ['airplane', 'automobile', 'bird', 'cat', 'deer', 'dog', 'frog', 'horse', 'ship', 'truck']\n",
    "from scipy.optimize import linprog\n",
    "import math\n",
    "import cvxpy as cp\n",
    "\n",
    "def compute_minimal_perturbation(weight_feature_new_class, weight_feature_all_classes, all_label_logits, new_label_logits, new_label):\n",
    "\n",
    "    all_label_logits_np = all_label_logits.detach().numpy()\n",
    "    new_label_logits_np = new_label_logits.detach().numpy()\n",
    "    weight_feature_new_class_np = weight_feature_new_class.detach().numpy()\n",
    "    weight_feature_all_classes_np = weight_feature_all_classes.detach().numpy()\n",
    "\n",
    "    # Calculate all_other_label_logit_diff and all_other_weight_diff\n",
    "    all_other_label_logit_diff = np.array([all_label_logits_np[i] - new_label_logits_np for i in range(10) if i != new_label])\n",
    "    all_other_weight_diff = np.array([weight_feature_new_class_np - weight_feature_all_classes_np[i] for i in range(10) if i != new_label])\n",
    "    all_other_weight_diff = all_other_weight_diff.reshape(all_other_weight_diff.shape[0], -1)\n",
    "    # print(all_other_weight_diff.shape, all_other_label_logit_diff.shape)\n",
    "    num_vars = all_other_weight_diff.shape[1]\n",
    "    delta = cp.Variable(num_vars)\n",
    "\n",
    "    # Define the objective function\n",
    "    objective = cp.Minimize(cp.norm(delta, 2))\n",
    "\n",
    "    # Define the constraints\n",
    "    constraints = [all_other_weight_diff @ delta >= all_other_label_logit_diff + 30]\n",
    "\n",
    "    # Create the problem and solve it\n",
    "    problem = cp.Problem(objective, constraints)\n",
    "\n",
    "    try:\n",
    "        problem.solve()\n",
    "        return delta.value, True\n",
    "    except:\n",
    "        return None, False\n",
    "    "
   ]
  },
  {
   "cell_type": "code",
   "execution_count": 217,
   "metadata": {},
   "outputs": [],
   "source": [
    "cifar_10_class_names = ['airplane', 'automobile', 'bird', 'cat', 'deer', 'dog', 'frog', 'horse', 'ship', 'truck']"
   ]
  },
  {
   "cell_type": "code",
   "execution_count": 218,
   "metadata": {},
   "outputs": [],
   "source": [
    "image, label = test_dataset[random_index]\n",
    "image = image.unsqueeze(0)"
   ]
  },
  {
   "cell_type": "code",
   "execution_count": 219,
   "metadata": {},
   "outputs": [],
   "source": [
    "classifier_dense_layer = classifier.fc\n",
    "classifier_dense_layer_weights = classifier_dense_layer.weight.data"
   ]
  },
  {
   "cell_type": "code",
   "execution_count": 220,
   "metadata": {},
   "outputs": [],
   "source": [
    "encoding = classifier(image)[0].squeeze(0).detach()\n",
    "all_label_logits = classifier(image)[1].squeeze(0).detach()\n",
    "class_predictions = F.softmax(all_label_logits, dim=0)"
   ]
  },
  {
   "cell_type": "code",
   "execution_count": 230,
   "metadata": {},
   "outputs": [
    {
     "name": "stdout",
     "output_type": "stream",
     "text": [
      "Label to be changed from 9: truck to 0: airplane\n"
     ]
    }
   ],
   "source": [
    "# new_class is any class from 0 to 9 but not the original class\n",
    "new_class = random.randint(0, 9) \n",
    "while new_class == label:\n",
    "    new_class = random.randint(0, 9)\n",
    "new_class = 0\n",
    "print(f\"Label to be changed from {label}: {cifar_10_class_names[label]} to {new_class}: {cifar_10_class_names[new_class]}\")"
   ]
  },
  {
   "cell_type": "code",
   "execution_count": 231,
   "metadata": {},
   "outputs": [
    {
     "name": "stdout",
     "output_type": "stream",
     "text": [
      "No minimal perturbation found for feature index 5\n",
      "No minimal perturbation found for feature index 16\n",
      "No minimal perturbation found for feature index 21\n",
      "No minimal perturbation found for feature index 22\n",
      "No minimal perturbation found for feature index 34\n",
      "No minimal perturbation found for feature index 35\n",
      "No minimal perturbation found for feature index 41\n",
      "No minimal perturbation found for feature index 42\n",
      "No minimal perturbation found for feature index 68\n",
      "No minimal perturbation found for feature index 77\n"
     ]
    }
   ],
   "source": [
    "new_label_logits = all_label_logits[new_class]\n",
    "minimal_perturbations = []\n",
    "ten_random_feature_indices = random.sample(range(0, encoding.size(0)), 10)\n",
    "classifier_dense_layer_weights_reshaped = classifier_dense_layer_weights.reshape(classifier_dense_layer_weights.size(0), 128, 2, 2)\n",
    "perturbed_encodings = []\n",
    "for feature_index in range(encoding.size(0)):\n",
    "    perturbed_encoding = encoding.clone()\n",
    "    weight_feature_new_class = classifier_dense_layer_weights_reshaped[new_class, feature_index]\n",
    "    weight_feature_all_classes = classifier_dense_layer_weights_reshaped[:, feature_index]\n",
    "\n",
    "    minimal_perturbation, success = compute_minimal_perturbation(weight_feature_new_class, weight_feature_all_classes, all_label_logits, new_label_logits, new_class)\n",
    "    if minimal_perturbation is not None:\n",
    "        minimal_perturbation = minimal_perturbation.reshape(2, 2)\n",
    "        perturbed_encoding[feature_index] += minimal_perturbation\n",
    "        perturbed_encodings.append(perturbed_encoding)\n",
    "        minimal_perturbations.append(minimal_perturbation)\n",
    "    else:\n",
    "        print(\"No minimal perturbation found for feature index\", feature_index)\n",
    "        perturbed_encodings.append(None)\n",
    "        minimal_perturbations.append(None)\n",
    "        \n",
    "    "
   ]
  },
  {
   "cell_type": "code",
   "execution_count": 232,
   "metadata": {},
   "outputs": [
    {
     "data": {
      "text/plain": [
       "(torch.Size([128, 2, 2, 1, 3, 32, 32]), torch.Size([128, 2, 2]))"
      ]
     },
     "execution_count": 232,
     "metadata": {},
     "output_type": "execute_result"
    }
   ],
   "source": [
    "grad_image_wrt_last_but_one.shape, encoding.shape"
   ]
  },
  {
   "cell_type": "code",
   "execution_count": 241,
   "metadata": {},
   "outputs": [
    {
     "name": "stdout",
     "output_type": "stream",
     "text": [
      "Index 0, MSE Loss: 94.01905059814453, Norm of Perturbation: 97.14540100097656, Cosine similarity loss: 0.08373445272445679, MSE Reconstruction Loss: 3.0681350231170654, Total Loss: 94.13346099853516\n",
      "Index 1, MSE Loss: 122026.515625, Norm of Perturbation: 290.65948486328125, Cosine similarity loss: 0.2592623829841614, MSE Reconstruction Loss: 27.4522705078125, Total Loss: 122027.046875\n",
      "Index 2, MSE Loss: 6041.5625, Norm of Perturbation: 4.087653636932373, Cosine similarity loss: 0.3458890914916992, MSE Reconstruction Loss: 0.00544111430644989, Total Loss: 6041.908203125\n",
      "Index 3, MSE Loss: 2369.4384765625, Norm of Perturbation: 219.45327758789062, Cosine similarity loss: 0.39134877920150757, MSE Reconstruction Loss: 15.656547546386719, Total Loss: 2369.986328125\n",
      "Index 4, MSE Loss: 148.9427947998047, Norm of Perturbation: 85.10667419433594, Cosine similarity loss: 0.6152200698852539, MSE Reconstruction Loss: 2.3555755615234375, Total Loss: 149.58157348632812\n",
      "Index 6, MSE Loss: 153.2067413330078, Norm of Perturbation: 5.1092209815979, Cosine similarity loss: 0.2567128539085388, MSE Reconstruction Loss: 0.008498460985720158, Total Loss: 153.4635467529297\n",
      "Index 7, MSE Loss: 63.63441848754883, Norm of Perturbation: 44.621891021728516, Cosine similarity loss: 0.3132304549217224, MSE Reconstruction Loss: 0.6477353572845459, Total Loss: 63.954124450683594\n",
      "Index 8, MSE Loss: 147.7287139892578, Norm of Perturbation: 115.70159149169922, Cosine similarity loss: 0.19096708297729492, MSE Reconstruction Loss: 4.353127479553223, Total Loss: 147.9632110595703\n",
      "Converged after 907 iterations with loss 9.983748435974121, starting from 190.53204345703125\n",
      "Index 9, MSE Loss: 9.94623851776123, Norm of Perturbation: 77.51457214355469, Cosine similarity loss: 0.01795095205307007, MSE Reconstruction Loss: 1.955894947052002, Total Loss: 9.983748435974121\n",
      "Index 10, MSE Loss: 80.9151382446289, Norm of Perturbation: 7.103288173675537, Cosine similarity loss: 0.29656869173049927, MSE Reconstruction Loss: 0.016428355127573013, Total Loss: 81.21187591552734\n",
      "Index 11, MSE Loss: 31.240676879882812, Norm of Perturbation: 58.4208869934082, Cosine similarity loss: 0.13280224800109863, MSE Reconstruction Loss: 1.1099599599838257, Total Loss: 31.384578704833984\n",
      "Index 12, MSE Loss: 124.1588134765625, Norm of Perturbation: 6.433562755584717, Cosine similarity loss: 0.3314658999443054, MSE Reconstruction Loss: 0.013474994339048862, Total Loss: 124.49041748046875\n",
      "Index 13, MSE Loss: 551.0082397460938, Norm of Perturbation: 196.44866943359375, Cosine similarity loss: 0.24081867933273315, MSE Reconstruction Loss: 12.547287940979004, Total Loss: 551.3745727539062\n",
      "Index 14, MSE Loss: 8020.6669921875, Norm of Perturbation: 5.489680767059326, Cosine similarity loss: 0.4696308374404907, MSE Reconstruction Loss: 0.009807591326534748, Total Loss: 8021.13671875\n",
      "Index 15, MSE Loss: 2493.18310546875, Norm of Perturbation: 123.2823257446289, Cosine similarity loss: 0.5085729360580444, MSE Reconstruction Loss: 4.942577838897705, Total Loss: 2493.740966796875\n",
      "Index 17, MSE Loss: 142.11575317382812, Norm of Perturbation: 109.53672790527344, Cosine similarity loss: 0.19432759284973145, MSE Reconstruction Loss: 3.893956422805786, Total Loss: 142.34901428222656\n",
      "Index 18, MSE Loss: 79705.9296875, Norm of Perturbation: 6.9974045753479, Cosine similarity loss: 0.5517424941062927, MSE Reconstruction Loss: 0.015942631289362907, Total Loss: 79706.484375\n",
      "Index 19, MSE Loss: 14816.90234375, Norm of Perturbation: 6.778999328613281, Cosine similarity loss: 0.34390538930892944, MSE Reconstruction Loss: 0.014962735585868359, Total Loss: 14817.24609375\n",
      "Index 20, MSE Loss: 15128.841796875, Norm of Perturbation: 4.267493724822998, Cosine similarity loss: 0.904236376285553, MSE Reconstruction Loss: 0.005916964262723923, Total Loss: 15129.74609375\n",
      "Index 23, MSE Loss: 155.23138427734375, Norm of Perturbation: 34.65202713012695, Cosine similarity loss: 0.16819602251052856, MSE Reconstruction Loss: 0.3905690908432007, Total Loss: 155.4034881591797\n",
      "Index 24, MSE Loss: 497.1253967285156, Norm of Perturbation: 6.182083606719971, Cosine similarity loss: 0.3938305377960205, MSE Reconstruction Loss: 0.012439985759556293, Total Loss: 497.51934814453125\n",
      "Index 25, MSE Loss: 2989.80517578125, Norm of Perturbation: 4.259975910186768, Cosine similarity loss: 0.23796117305755615, MSE Reconstruction Loss: 0.005909061525017023, Total Loss: 2990.043212890625\n",
      "Index 26, MSE Loss: 53.543357849121094, Norm of Perturbation: 122.96424865722656, Cosine similarity loss: 0.09704035520553589, MSE Reconstruction Loss: 4.916348934173584, Total Loss: 53.6895637512207\n",
      "Index 27, MSE Loss: 13186.94140625, Norm of Perturbation: 4.2918701171875, Cosine similarity loss: 0.2314097285270691, MSE Reconstruction Loss: 0.005998995155096054, Total Loss: 13187.1728515625\n",
      "Index 28, MSE Loss: 2790.519287109375, Norm of Perturbation: 126.62860107421875, Cosine similarity loss: 0.43004053831100464, MSE Reconstruction Loss: 5.211577415466309, Total Loss: 2791.001220703125\n",
      "Index 29, MSE Loss: 188.73565673828125, Norm of Perturbation: 3.52126145362854, Cosine similarity loss: 0.3337574601173401, MSE Reconstruction Loss: 0.004036496393382549, Total Loss: 189.0694580078125\n",
      "Index 30, MSE Loss: 9388.6533203125, Norm of Perturbation: 4.9742817878723145, Cosine similarity loss: 0.2592320442199707, MSE Reconstruction Loss: 0.008045613765716553, Total Loss: 9388.912109375\n",
      "Index 31, MSE Loss: 132.73965454101562, Norm of Perturbation: 150.76638793945312, Cosine similarity loss: 0.1775672435760498, MSE Reconstruction Loss: 7.38955545425415, Total Loss: 132.99111938476562\n",
      "Index 32, MSE Loss: 5560.896484375, Norm of Perturbation: 3.438577651977539, Cosine similarity loss: 0.2795650362968445, MSE Reconstruction Loss: 0.003850282169878483, Total Loss: 5561.17626953125\n",
      "Index 33, MSE Loss: 1836.78466796875, Norm of Perturbation: 136.22206115722656, Cosine similarity loss: 1.0696691274642944, MSE Reconstruction Loss: 6.033306121826172, Total Loss: 1837.9146728515625\n",
      "Index 36, MSE Loss: 15.613627433776855, Norm of Perturbation: 81.22378540039062, Cosine similarity loss: 0.06601822376251221, MSE Reconstruction Loss: 2.1458852291107178, Total Loss: 15.701104164123535\n",
      "Index 37, MSE Loss: 26.636241912841797, Norm of Perturbation: 34.01051712036133, Cosine similarity loss: 0.28753167390823364, MSE Reconstruction Loss: 0.3762325942516327, Total Loss: 26.927536010742188\n",
      "Index 38, MSE Loss: 414.135986328125, Norm of Perturbation: 108.39531707763672, Cosine similarity loss: 0.22281312942504883, MSE Reconstruction Loss: 3.821302652359009, Total Loss: 414.3970031738281\n",
      "Index 39, MSE Loss: 27.610179901123047, Norm of Perturbation: 39.813026428222656, Cosine similarity loss: 0.11554986238479614, MSE Reconstruction Loss: 0.5156984329223633, Total Loss: 27.730886459350586\n",
      "Index 40, MSE Loss: 761.1317749023438, Norm of Perturbation: 121.31396484375, Cosine similarity loss: 0.23826295137405396, MSE Reconstruction Loss: 4.784604549407959, Total Loss: 761.4179077148438\n",
      "Index 43, MSE Loss: 327.5606994628906, Norm of Perturbation: 57.51839828491211, Cosine similarity loss: 0.4289935827255249, MSE Reconstruction Loss: 1.0763157606124878, Total Loss: 328.0004577636719\n",
      "Index 44, MSE Loss: 76.33438873291016, Norm of Perturbation: 38.6419792175293, Cosine similarity loss: 0.22450512647628784, MSE Reconstruction Loss: 0.48591694235801697, Total Loss: 76.56375122070312\n",
      "Index 45, MSE Loss: 1412.558349609375, Norm of Perturbation: 81.24871826171875, Cosine similarity loss: 0.27009254693984985, MSE Reconstruction Loss: 2.146651268005371, Total Loss: 1412.8499755859375\n",
      "Index 46, MSE Loss: 24226.623046875, Norm of Perturbation: 3.1273257732391357, Cosine similarity loss: 0.8659013509750366, MSE Reconstruction Loss: 0.003184364177286625, Total Loss: 24227.48828125\n",
      "Index 47, MSE Loss: 1027.2310791015625, Norm of Perturbation: 158.79713439941406, Cosine similarity loss: 0.38961923122406006, MSE Reconstruction Loss: 8.199549674987793, Total Loss: 1027.7027587890625\n",
      "Index 48, MSE Loss: 108.44854736328125, Norm of Perturbation: 56.35088348388672, Cosine similarity loss: 0.3772193193435669, MSE Reconstruction Loss: 1.0329827070236206, Total Loss: 108.83609771728516\n",
      "Index 49, MSE Loss: 8916.1103515625, Norm of Perturbation: 233.79244995117188, Cosine similarity loss: 0.4042660593986511, MSE Reconstruction Loss: 17.75807762145996, Total Loss: 8916.6923828125\n",
      "Index 50, MSE Loss: 4288.94921875, Norm of Perturbation: 4.597074508666992, Cosine similarity loss: 0.2381407618522644, MSE Reconstruction Loss: 0.006881491746753454, Total Loss: 4289.1875\n",
      "Index 51, MSE Loss: 480.09130859375, Norm of Perturbation: 11.516660690307617, Cosine similarity loss: 0.432098388671875, MSE Reconstruction Loss: 0.04317208006978035, Total Loss: 480.5238342285156\n",
      "Index 52, MSE Loss: 93.28386688232422, Norm of Perturbation: 5.0916266441345215, Cosine similarity loss: 0.5270794630050659, MSE Reconstruction Loss: 0.00844037625938654, Total Loss: 93.81102752685547\n",
      "Index 53, MSE Loss: 85.25386810302734, Norm of Perturbation: 5.034478187561035, Cosine similarity loss: 0.4383832812309265, MSE Reconstruction Loss: 0.008253024891018867, Total Loss: 85.69233703613281\n",
      "Index 54, MSE Loss: 45.28667068481445, Norm of Perturbation: 101.26417541503906, Cosine similarity loss: 0.10913842916488647, MSE Reconstruction Loss: 3.334871292114258, Total Loss: 45.42915725708008\n",
      "Index 55, MSE Loss: 54.585445404052734, Norm of Perturbation: 134.1436309814453, Cosine similarity loss: 0.05267459154129028, MSE Reconstruction Loss: 5.850975036621094, Total Loss: 54.69662857055664\n",
      "Index 56, MSE Loss: 1639.73974609375, Norm of Perturbation: 56.30318069458008, Cosine similarity loss: 0.25816577672958374, MSE Reconstruction Loss: 1.0311721563339233, Total Loss: 1640.0081787109375\n",
      "Index 57, MSE Loss: 633.1314086914062, Norm of Perturbation: 5.826455116271973, Cosine similarity loss: 0.4366306662559509, MSE Reconstruction Loss: 0.011008446104824543, Total Loss: 633.5681762695312\n",
      "Index 58, MSE Loss: 12174.287109375, Norm of Perturbation: 3.8442699909210205, Cosine similarity loss: 0.20617687702178955, MSE Reconstruction Loss: 0.004811252932995558, Total Loss: 12174.4931640625\n",
      "Index 59, MSE Loss: 1952.781005859375, Norm of Perturbation: 3.792930841445923, Cosine similarity loss: 0.2580573558807373, MSE Reconstruction Loss: 0.004683732986450195, Total Loss: 1953.0390625\n",
      "Index 60, MSE Loss: 465.40704345703125, Norm of Perturbation: 5.050137996673584, Cosine similarity loss: 0.371334969997406, MSE Reconstruction Loss: 0.008303207345306873, Total Loss: 465.7784729003906\n",
      "Index 61, MSE Loss: 3882.058837890625, Norm of Perturbation: 5.692245960235596, Cosine similarity loss: 0.21450811624526978, MSE Reconstruction Loss: 0.010550473816692829, Total Loss: 3882.2734375\n",
      "Index 62, MSE Loss: 4092.84814453125, Norm of Perturbation: 147.53623962402344, Cosine similarity loss: 0.7847159504890442, MSE Reconstruction Loss: 7.076190948486328, Total Loss: 4093.70361328125\n",
      "Index 63, MSE Loss: 603.336181640625, Norm of Perturbation: 115.24716186523438, Cosine similarity loss: 0.1606961488723755, MSE Reconstruction Loss: 4.318556785583496, Total Loss: 603.5401000976562\n",
      "Index 64, MSE Loss: 71.89115905761719, Norm of Perturbation: 4.970930576324463, Cosine similarity loss: 0.32110124826431274, MSE Reconstruction Loss: 0.008045968599617481, Total Loss: 72.21234130859375\n",
      "Index 65, MSE Loss: 141.8510284423828, Norm of Perturbation: 4.537703037261963, Cosine similarity loss: 0.3303595185279846, MSE Reconstruction Loss: 0.006703728809952736, Total Loss: 142.1814422607422\n",
      "Index 66, MSE Loss: 13196.4716796875, Norm of Perturbation: 192.92105102539062, Cosine similarity loss: 0.60636967420578, MSE Reconstruction Loss: 12.095829010009766, Total Loss: 13197.19921875\n",
      "Index 67, MSE Loss: 47.49083709716797, Norm of Perturbation: 83.45201873779297, Cosine similarity loss: 0.06505697965621948, MSE Reconstruction Loss: 2.2653019428253174, Total Loss: 47.57854461669922\n",
      "Index 69, MSE Loss: 31.147916793823242, Norm of Perturbation: 38.798824310302734, Cosine similarity loss: 0.1264430284500122, MSE Reconstruction Loss: 0.4897160530090332, Total Loss: 31.279258728027344\n",
      "Index 70, MSE Loss: 113.23018646240234, Norm of Perturbation: 48.90928649902344, Cosine similarity loss: 0.16263467073440552, MSE Reconstruction Loss: 0.7782047390937805, Total Loss: 113.40060424804688\n",
      "Index 71, MSE Loss: 662.1015625, Norm of Perturbation: 4.077576637268066, Cosine similarity loss: 0.4988320469856262, MSE Reconstruction Loss: 0.005414216313511133, Total Loss: 662.6004638671875\n",
      "Index 72, MSE Loss: 104721.109375, Norm of Perturbation: 287.53924560546875, Cosine similarity loss: 0.5020802617073059, MSE Reconstruction Loss: 26.866979598999023, Total Loss: 104721.875\n",
      "Index 73, MSE Loss: 286.9661560058594, Norm of Perturbation: 81.1921157836914, Cosine similarity loss: 0.5518821477890015, MSE Reconstruction Loss: 2.1443099975585938, Total Loss: 287.53948974609375\n",
      "Index 74, MSE Loss: 161.24452209472656, Norm of Perturbation: 86.28731536865234, Cosine similarity loss: 0.1892704963684082, MSE Reconstruction Loss: 2.42140531539917, Total Loss: 161.4580078125\n",
      "Index 75, MSE Loss: 4760.33154296875, Norm of Perturbation: 239.93479919433594, Cosine similarity loss: 0.7800092697143555, MSE Reconstruction Loss: 18.711963653564453, Total Loss: 4761.29833984375\n",
      "Index 76, MSE Loss: 5097.255859375, Norm of Perturbation: 4.3692145347595215, Cosine similarity loss: 0.6567946672439575, MSE Reconstruction Loss: 0.006216011475771666, Total Loss: 5097.91259765625\n",
      "Index 78, MSE Loss: 2009.96826171875, Norm of Perturbation: 77.3712387084961, Cosine similarity loss: 0.3099210262298584, MSE Reconstruction Loss: 1.9470528364181519, Total Loss: 2010.2977294921875\n",
      "Converged after 303 iterations with loss 9.992274284362793, starting from 24.104061126708984\n",
      "Index 79, MSE Loss: 9.892921447753906, Norm of Perturbation: 30.555219650268555, Cosine similarity loss: 0.09631359577178955, MSE Reconstruction Loss: 0.3039132058620453, Total Loss: 9.992274284362793\n",
      "Index 80, MSE Loss: 3033.01513671875, Norm of Perturbation: 5.118037223815918, Cosine similarity loss: 0.7242854833602905, MSE Reconstruction Loss: 0.008528990671038628, Total Loss: 3033.739501953125\n",
      "Index 81, MSE Loss: 2511.024169921875, Norm of Perturbation: 3.6252005100250244, Cosine similarity loss: 0.29469621181488037, MSE Reconstruction Loss: 0.004279320128262043, Total Loss: 2511.31884765625\n",
      "Index 82, MSE Loss: 53.67121887207031, Norm of Perturbation: 4.035726547241211, Cosine similarity loss: 0.2567412257194519, MSE Reconstruction Loss: 0.005303788930177689, Total Loss: 53.92801284790039\n",
      "Index 83, MSE Loss: 43.13658142089844, Norm of Perturbation: 146.30259704589844, Cosine similarity loss: 0.053289711475372314, MSE Reconstruction Loss: 6.96056604385376, Total Loss: 43.25947952270508\n",
      "Index 84, MSE Loss: 113.23638916015625, Norm of Perturbation: 27.02196502685547, Cosine similarity loss: 0.4902295470237732, MSE Reconstruction Loss: 0.23759615421295166, Total Loss: 113.72898864746094\n",
      "Index 85, MSE Loss: 2462.388427734375, Norm of Perturbation: 218.44656372070312, Cosine similarity loss: 1.147344946861267, MSE Reconstruction Loss: 15.51477336883545, Total Loss: 2463.69091796875\n",
      "Index 86, MSE Loss: 302.52850341796875, Norm of Perturbation: 3.772858142852783, Cosine similarity loss: 0.22249764204025269, MSE Reconstruction Loss: 0.004636574070900679, Total Loss: 302.7510681152344\n",
      "Index 87, MSE Loss: 79.56453704833984, Norm of Perturbation: 4.6192426681518555, Cosine similarity loss: 0.4684181213378906, MSE Reconstruction Loss: 0.006935301702469587, Total Loss: 80.03302764892578\n",
      "Index 88, MSE Loss: 551.0189819335938, Norm of Perturbation: 4.7457170486450195, Cosine similarity loss: 0.2617713212966919, MSE Reconstruction Loss: 0.007333276327699423, Total Loss: 551.2808227539062\n",
      "Index 89, MSE Loss: 14848.5205078125, Norm of Perturbation: 4.510602951049805, Cosine similarity loss: 1.0083235502243042, MSE Reconstruction Loss: 0.006624551955610514, Total Loss: 14849.529296875\n",
      "Index 90, MSE Loss: 206.72463989257812, Norm of Perturbation: 6.701265335083008, Cosine similarity loss: 0.27778035402297974, MSE Reconstruction Loss: 0.014619912020862103, Total Loss: 207.00257873535156\n",
      "Index 91, MSE Loss: 12768.255859375, Norm of Perturbation: 4.801728248596191, Cosine similarity loss: 0.20877468585968018, MSE Reconstruction Loss: 0.007507869508117437, Total Loss: 12768.46484375\n",
      "Index 92, MSE Loss: 15457.13671875, Norm of Perturbation: 4.796727657318115, Cosine similarity loss: 0.6777815818786621, MSE Reconstruction Loss: 0.0074919150210917, Total Loss: 15457.814453125\n",
      "Index 93, MSE Loss: 64.65131378173828, Norm of Perturbation: 128.1917724609375, Cosine similarity loss: 0.31750744581222534, MSE Reconstruction Loss: 5.3430609703063965, Total Loss: 65.02224731445312\n",
      "Index 94, MSE Loss: 879.8721313476562, Norm of Perturbation: 4.104241371154785, Cosine similarity loss: 0.26992207765579224, MSE Reconstruction Loss: 0.005479889456182718, Total Loss: 880.14208984375\n",
      "Index 95, MSE Loss: 6898.13720703125, Norm of Perturbation: 3.554978609085083, Cosine similarity loss: 0.37158137559890747, MSE Reconstruction Loss: 0.004115220159292221, Total Loss: 6898.5087890625\n",
      "Index 96, MSE Loss: 48.03954315185547, Norm of Perturbation: 88.26670837402344, Cosine similarity loss: 0.1034577488899231, MSE Reconstruction Loss: 2.5335607528686523, Total Loss: 48.168338775634766\n",
      "Index 97, MSE Loss: 270208.8125, Norm of Perturbation: 6.307278633117676, Cosine similarity loss: 0.6539894938468933, MSE Reconstruction Loss: 0.012953321449458599, Total Loss: 270209.46875\n",
      "Index 98, MSE Loss: 42.0886116027832, Norm of Perturbation: 45.46165084838867, Cosine similarity loss: 0.13450968265533447, MSE Reconstruction Loss: 0.672412097454071, Total Loss: 42.2298469543457\n",
      "Index 99, MSE Loss: 301.7333068847656, Norm of Perturbation: 131.99099731445312, Cosine similarity loss: 0.3916553258895874, MSE Reconstruction Loss: 5.665651798248291, Total Loss: 302.181640625\n",
      "Index 100, MSE Loss: 2572.06201171875, Norm of Perturbation: 4.343969821929932, Cosine similarity loss: 0.29358208179473877, MSE Reconstruction Loss: 0.006138022523373365, Total Loss: 2572.355712890625\n",
      "Index 101, MSE Loss: 16.538148880004883, Norm of Perturbation: 61.088375091552734, Cosine similarity loss: 0.1772979497909546, MSE Reconstruction Loss: 1.2141779661178589, Total Loss: 16.727588653564453\n",
      "Index 102, MSE Loss: 10532.2158203125, Norm of Perturbation: 4.150694847106934, Cosine similarity loss: 0.25163793563842773, MSE Reconstruction Loss: 0.005609195679426193, Total Loss: 10532.4677734375\n",
      "Index 103, MSE Loss: 951.8070068359375, Norm of Perturbation: 97.98015594482422, Cosine similarity loss: 0.43763601779937744, MSE Reconstruction Loss: 3.1228532791137695, Total Loss: 952.27587890625\n",
      "Index 104, MSE Loss: 20.627620697021484, Norm of Perturbation: 22.424962997436523, Cosine similarity loss: 0.15855062007904053, MSE Reconstruction Loss: 0.1636473685503006, Total Loss: 20.78780746459961\n",
      "Index 105, MSE Loss: 73.99345397949219, Norm of Perturbation: 137.86476135253906, Cosine similarity loss: 0.13395684957504272, MSE Reconstruction Loss: 6.180295944213867, Total Loss: 74.18921661376953\n",
      "Index 106, MSE Loss: 36.04139709472656, Norm of Perturbation: 68.6973648071289, Cosine similarity loss: 0.11971914768218994, MSE Reconstruction Loss: 1.535124659538269, Total Loss: 36.17646789550781\n",
      "Index 107, MSE Loss: 399.7065124511719, Norm of Perturbation: 55.840267181396484, Cosine similarity loss: 0.3032776713371277, MSE Reconstruction Loss: 1.0141223669052124, Total Loss: 400.0199279785156\n",
      "Index 108, MSE Loss: 141.3780975341797, Norm of Perturbation: 106.5770492553711, Cosine similarity loss: 0.2653859853744507, MSE Reconstruction Loss: 3.694088935852051, Total Loss: 141.680419921875\n",
      "Index 109, MSE Loss: 81.24359130859375, Norm of Perturbation: 38.46086883544922, Cosine similarity loss: 0.31286531686782837, MSE Reconstruction Loss: 0.481247216463089, Total Loss: 81.56127166748047\n",
      "Index 110, MSE Loss: 74324.34375, Norm of Perturbation: 3.3263049125671387, Cosine similarity loss: 1.217614769935608, MSE Reconstruction Loss: 0.0036033678334206343, Total Loss: 74325.5625\n",
      "Index 111, MSE Loss: 3263.34912109375, Norm of Perturbation: 3.848339080810547, Cosine similarity loss: 0.23030805587768555, MSE Reconstruction Loss: 0.004827873315662146, Total Loss: 3263.579345703125\n",
      "Index 112, MSE Loss: 68.21903991699219, Norm of Perturbation: 117.41448211669922, Cosine similarity loss: 0.08671510219573975, MSE Reconstruction Loss: 4.483331203460693, Total Loss: 68.3505859375\n",
      "Index 113, MSE Loss: 160.20968627929688, Norm of Perturbation: 5.2749223709106445, Cosine similarity loss: 0.2095293402671814, MSE Reconstruction Loss: 0.009055140428245068, Total Loss: 160.4193115234375\n",
      "Index 114, MSE Loss: 444.3529052734375, Norm of Perturbation: 6.203658103942871, Cosine similarity loss: 0.3189416527748108, MSE Reconstruction Loss: 0.01252840831875801, Total Loss: 444.6719665527344\n",
      "Index 115, MSE Loss: 3344.322265625, Norm of Perturbation: 6.552428722381592, Cosine similarity loss: 0.35099565982818604, MSE Reconstruction Loss: 0.01397873554378748, Total Loss: 3344.673583984375\n",
      "Index 116, MSE Loss: 470.87255859375, Norm of Perturbation: 22.79561996459961, Cosine similarity loss: 0.2469499111175537, MSE Reconstruction Loss: 0.16911475360393524, Total Loss: 471.1211853027344\n",
      "Index 117, MSE Loss: 6387.6435546875, Norm of Perturbation: 3.9648711681365967, Cosine similarity loss: 0.27634739875793457, MSE Reconstruction Loss: 0.00511919567361474, Total Loss: 6387.919921875\n",
      "Index 118, MSE Loss: 155.29745483398438, Norm of Perturbation: 4.519845485687256, Cosine similarity loss: 0.503888726234436, MSE Reconstruction Loss: 0.006650872062891722, Total Loss: 155.80140686035156\n",
      "Index 119, MSE Loss: 120.67306518554688, Norm of Perturbation: 63.2448844909668, Cosine similarity loss: 0.6075468063354492, MSE Reconstruction Loss: 1.301252007484436, Total Loss: 121.29362487792969\n",
      "Index 120, MSE Loss: 324.1850280761719, Norm of Perturbation: 26.20630645751953, Cosine similarity loss: 0.3900347352027893, MSE Reconstruction Loss: 0.22338497638702393, Total Loss: 324.5773010253906\n",
      "Index 121, MSE Loss: 175.5128173828125, Norm of Perturbation: 69.8974838256836, Cosine similarity loss: 0.1618947982788086, MSE Reconstruction Loss: 1.5889352560043335, Total Loss: 175.6905975341797\n",
      "Index 122, MSE Loss: 61.58409881591797, Norm of Perturbation: 4.372426509857178, Cosine similarity loss: 0.30265164375305176, MSE Reconstruction Loss: 0.006225762888789177, Total Loss: 61.886810302734375\n",
      "Index 123, MSE Loss: 1463.2193603515625, Norm of Perturbation: 4.892968654632568, Cosine similarity loss: 0.4857369065284729, MSE Reconstruction Loss: 0.007795585785061121, Total Loss: 1463.7052001953125\n",
      "Index 124, MSE Loss: 40635156.0, Norm of Perturbation: 330.3069152832031, Cosine similarity loss: 0.44906431436538696, MSE Reconstruction Loss: 35.44429397583008, Total Loss: 40635156.0\n",
      "Index 125, MSE Loss: 330.9665222167969, Norm of Perturbation: 3.8251988887786865, Cosine similarity loss: 0.3387593626976013, MSE Reconstruction Loss: 0.004764158744364977, Total Loss: 331.3053283691406\n",
      "Index 126, MSE Loss: 41288.59765625, Norm of Perturbation: 4.829594135284424, Cosine similarity loss: 0.2963629364967346, MSE Reconstruction Loss: 0.00759493000805378, Total Loss: 41288.89453125\n",
      "Index 127, MSE Loss: 163.63929748535156, Norm of Perturbation: 86.36941528320312, Cosine similarity loss: 0.5264555215835571, MSE Reconstruction Loss: 2.426384210586548, Total Loss: 164.1900177001953\n"
     ]
    }
   ],
   "source": [
    "import torch\n",
    "import torch.nn.functional as F\n",
    "import torch.optim as optim\n",
    "from torch import nn\n",
    "\n",
    "perturbed_images = []\n",
    "top_five_least_norm_del_images = []\n",
    "\n",
    "initial_lr = 0.01  # Learning rate\n",
    "\n",
    "# Set scaling factors\n",
    "mse_weight = 1.0\n",
    "cosine_similarity_weight = 1.0\n",
    "mse_reconstruction_weight = 0.01\n",
    "\n",
    "for index, perturbed_encoding in enumerate(perturbed_encodings):\n",
    "    if perturbed_encoding is None:\n",
    "        perturbed_images.append(None)\n",
    "        continue\n",
    "\n",
    "    perturbed_image = image.clone()\n",
    "    perturbed_image.requires_grad_(True)\n",
    "\n",
    "    optimizer = optim.Adam([perturbed_image], lr=initial_lr)\n",
    "    max_iterations = 1000\n",
    "    iteration = 0\n",
    "\n",
    "    initial_loss = F.mse_loss(classifier(perturbed_image)[0].squeeze(0), perturbed_encoding)\n",
    "\n",
    "    while max_iterations > 0:\n",
    "        optimizer.zero_grad()\n",
    "\n",
    "        obtained_encoding = classifier(perturbed_image)[0].squeeze(0)\n",
    "        required_encoding = perturbed_encoding\n",
    "\n",
    "        class_logits_from_perturbed_encoding = classifier_dense_layer(required_encoding.view(1, -1))\n",
    "        class_logits_from_perturbed_image = classifier_dense_layer(obtained_encoding.view(1, -1))\n",
    "\n",
    "        cosine_similarity_loss = F.cosine_embedding_loss(\n",
    "            class_logits_from_perturbed_image,\n",
    "            class_logits_from_perturbed_encoding,\n",
    "            torch.tensor([1.0])\n",
    "        )\n",
    "        mse_loss = F.mse_loss(obtained_encoding, required_encoding)\n",
    "        mse_reconstruction_loss = F.mse_loss(perturbed_image, image)\n",
    "\n",
    "        # Apply scaling factors\n",
    "        target_loss = (\n",
    "            mse_weight * mse_loss +\n",
    "            cosine_similarity_weight * cosine_similarity_loss +\n",
    "            mse_reconstruction_weight * mse_reconstruction_loss\n",
    "        )\n",
    "\n",
    "        if target_loss.item() <= 10:\n",
    "            print(f\"Converged after {iteration} iterations with loss {target_loss.item()}, starting from {initial_loss.item()}\")\n",
    "            break\n",
    "\n",
    "        target_loss.backward()\n",
    "        optimizer.step()\n",
    "        perturbed_image.requires_grad_(True)\n",
    "\n",
    "        iteration += 1\n",
    "        max_iterations -= 1\n",
    "\n",
    "    del_image = perturbed_image - image\n",
    "    perturbed_images.append(perturbed_image)\n",
    "\n",
    "    if len(top_five_least_norm_del_images) < 5:\n",
    "        top_five_least_norm_del_images.append((index, target_loss.item()))\n",
    "    else:\n",
    "        top_five_least_norm_del_images = sorted(top_five_least_norm_del_images, key=lambda x: x[1])\n",
    "        if target_loss.item() < top_five_least_norm_del_images[-1][1]:\n",
    "            top_five_least_norm_del_images[-1] = (index, target_loss.item())\n",
    "\n",
    "    print(f\"Index {index}, MSE Loss: {mse_loss.item()}, Norm of Perturbation: {torch.norm(del_image)}, \"\n",
    "          f\"Cosine similarity loss: {cosine_similarity_loss.item()}, MSE Reconstruction Loss: {mse_reconstruction_loss.item()}, \"\n",
    "          f\"Total Loss: {target_loss.item()}\")\n",
    "\n",
    "top_five_least_norm_del_images = sorted(top_five_least_norm_del_images, key=lambda x: x[1])\n"
   ]
  },
  {
   "cell_type": "code",
   "execution_count": 242,
   "metadata": {},
   "outputs": [
    {
     "data": {
      "text/plain": [
       "[(9, 9.983748435974121),\n",
       " (79, 9.992274284362793),\n",
       " (36, 15.701104164123535),\n",
       " (101, 16.727588653564453),\n",
       " (104, 20.78780746459961)]"
      ]
     },
     "execution_count": 242,
     "metadata": {},
     "output_type": "execute_result"
    }
   ],
   "source": [
    "top_five_least_norm_del_images"
   ]
  },
  {
   "cell_type": "code",
   "execution_count": 243,
   "metadata": {},
   "outputs": [
    {
     "data": {
      "text/plain": [
       "128"
      ]
     },
     "execution_count": 243,
     "metadata": {},
     "output_type": "execute_result"
    }
   ],
   "source": [
    "len(perturbed_images)"
   ]
  },
  {
   "cell_type": "code",
   "execution_count": 244,
   "metadata": {},
   "outputs": [
    {
     "name": "stderr",
     "output_type": "stream",
     "text": [
      "Clipping input data to the valid range for imshow with RGB data ([0..1] for floats or [0..255] for integers).\n",
      "Clipping input data to the valid range for imshow with RGB data ([0..1] for floats or [0..255] for integers).\n",
      "Clipping input data to the valid range for imshow with RGB data ([0..1] for floats or [0..255] for integers).\n",
      "Clipping input data to the valid range for imshow with RGB data ([0..1] for floats or [0..255] for integers).\n",
      "Clipping input data to the valid range for imshow with RGB data ([0..1] for floats or [0..255] for integers).\n"
     ]
    },
    {
     "data": {
      "image/png": "[encoded data removed]",
      "text/plain": [
       "<Figure size 1000x2000 with 10 Axes>"
      ]
     },
     "metadata": {},
     "output_type": "display_data"
    }
   ],
   "source": [
    "# Visualize the actual and perturbed images side by side for the top 5 least norm delta images\n",
    "fig, axs = plt.subplots(5, 2, figsize=(10, 20))\n",
    "for i, (index, norm_del_image) in enumerate(top_five_least_norm_del_images):\n",
    "    actual_image = image.squeeze(0).permute(1, 2, 0).detach().numpy()\n",
    "    perturbed_image = perturbed_images[index].squeeze(0).permute(1, 2, 0).detach().numpy()\n",
    "    axs[i, 0].imshow(actual_image)\n",
    "    axs[i, 0].set_title(f\"Actual Image\")\n",
    "    axs[i, 0].axis('off')\n",
    "    axs[i, 1].imshow(perturbed_image)\n",
    "    axs[i, 1].set_title(f\"Perturbed Image\")\n",
    "    axs[i, 1].axis('off')"
   ]
  },
  {
   "cell_type": "code",
   "execution_count": 245,
   "metadata": {},
   "outputs": [
    {
     "name": "stdout",
     "output_type": "stream",
     "text": [
      "Norm of difference in encodings = 9.94623851776123\n",
      "Norm of image difference = 77.51457214355469\n",
      "Original Class : 9 : truck\n",
      "New Class : 0 : airplane\n",
      "=============================================\n",
      "Original class logits: tensor([ -9.3963,  11.0548,  -6.8805,  -7.0492, -22.4755, -13.7384,  -5.3635,\n",
      "        -18.7197, -18.5860,  25.2402])\n",
      "Class logits from perturbed encoding: tensor([[ 74.2373,  24.2373,  24.2373, -61.7149,  16.7828, -73.8537, -66.1094,\n",
      "         -40.1202, -44.1512,  24.2373]], grad_fn=<AddmmBackward0>)\n",
      "Original class logit in perturbed encoding: 24.237285614013672\n",
      "Required class logit in perturbed encoding: 74.23729705810547\n",
      "Predicted class logit from perturbed encoding: 74.23729705810547\n",
      "Predicted class name from perturbed encoding: airplane\n",
      "=============================================\n",
      "Class logits from perturbed image: tensor([[ 65.0653,  27.6997,   4.5925, -62.7602,  13.2370, -72.5702, -74.9840,\n",
      "         -24.8142, -36.4986,  18.0547]], grad_fn=<AddmmBackward0>)\n",
      "Predicted class logit from perturbed image: 65.06526947021484\n",
      "Predicted class name from perturbed image: airplane\n",
      "=============================================\n",
      "=============================================\n",
      "Norm of difference in encodings = 9.892921447753906\n",
      "Norm of image difference = 30.555219650268555\n",
      "Original Class : 9 : truck\n",
      "New Class : 0 : airplane\n",
      "=============================================\n",
      "Original class logits: tensor([ -9.3963,  11.0548,  -6.8805,  -7.0492, -22.4755, -13.7384,  -5.3635,\n",
      "        -18.7197, -18.5860,  25.2402])\n",
      "Class logits from perturbed encoding: tensor([[ 48.5744,  -1.4256,  -1.4256,  -4.2245, -20.1604, -25.2074, -20.3808,\n",
      "          -4.0307,  -6.9791, -27.7602]], grad_fn=<AddmmBackward0>)\n",
      "Original class logit in perturbed encoding: -27.760236740112305\n",
      "Required class logit in perturbed encoding: 48.57438659667969\n",
      "Predicted class logit from perturbed encoding: 48.57438659667969\n",
      "Predicted class name from perturbed encoding: airplane\n",
      "=============================================\n",
      "Class logits from perturbed image: tensor([[ 24.5308,   2.2951,  -4.7355,  -5.1774, -22.9492, -19.8317, -22.5978,\n",
      "          -4.5065, -17.0842, -12.3963]], grad_fn=<AddmmBackward0>)\n",
      "Predicted class logit from perturbed image: 24.530759811401367\n",
      "Predicted class name from perturbed image: airplane\n",
      "=============================================\n",
      "=============================================\n",
      "Norm of difference in encodings = 15.61086368560791\n",
      "Norm of image difference = 81.22378540039062\n",
      "Original Class : 9 : truck\n",
      "New Class : 0 : airplane\n",
      "=============================================\n",
      "Original class logits: tensor([ -9.3963,  11.0548,  -6.8805,  -7.0492, -22.4755, -13.7384,  -5.3635,\n",
      "        -18.7197, -18.5860,  25.2402])\n",
      "Class logits from perturbed encoding: tensor([[ 58.2958,   2.9581, -61.5689,   8.2958,   8.2958,   8.2958,   8.2958,\n",
      "         -92.0809,  -9.9101, -42.5476]], grad_fn=<AddmmBackward0>)\n",
      "Original class logit in perturbed encoding: -42.54755783081055\n",
      "Required class logit in perturbed encoding: 58.29580307006836\n",
      "Predicted class logit from perturbed encoding: 58.29580307006836\n",
      "Predicted class name from perturbed encoding: airplane\n",
      "=============================================\n",
      "Class logits from perturbed image: tensor([[ 42.6869,  -7.4096, -57.7044,  -1.4765,  -6.7454, -24.3805,   3.7049,\n",
      "         -85.9133,  11.6084, -39.7492]], grad_fn=<AddmmBackward0>)\n",
      "Predicted class logit from perturbed image: 42.686859130859375\n",
      "Predicted class name from perturbed image: airplane\n",
      "=============================================\n",
      "=============================================\n",
      "Norm of difference in encodings = 16.539011001586914\n",
      "Norm of image difference = 61.088375091552734\n",
      "Original Class : 9 : truck\n",
      "New Class : 0 : airplane\n",
      "=============================================\n",
      "Original class logits: tensor([ -9.3963,  11.0548,  -6.8805,  -7.0492, -22.4755, -13.7384,  -5.3635,\n",
      "        -18.7197, -18.5860,  25.2402])\n",
      "Class logits from perturbed encoding: tensor([[ 45.3863,  -4.6137, -37.7372, -62.5878, -14.9633, -20.3236, -30.1773,\n",
      "          -5.0232,  -4.6137,  -4.6137]], grad_fn=<AddmmBackward0>)\n",
      "Original class logit in perturbed encoding: -4.613713264465332\n",
      "Required class logit in perturbed encoding: 45.386287689208984\n",
      "Predicted class logit from perturbed encoding: 45.386287689208984\n",
      "Predicted class name from perturbed encoding: airplane\n",
      "=============================================\n",
      "Class logits from perturbed image: tensor([[ 35.7509,  -1.2556, -28.5853, -39.7506, -61.8894, -17.7905, -32.1619,\n",
      "         -15.6467,  -4.8708,   9.7493]], grad_fn=<AddmmBackward0>)\n",
      "Predicted class logit from perturbed image: 35.75093460083008\n",
      "Predicted class name from perturbed image: airplane\n",
      "=============================================\n",
      "=============================================\n",
      "Norm of difference in encodings = 20.62681007385254\n",
      "Norm of image difference = 22.424962997436523\n",
      "Original Class : 9 : truck\n",
      "New Class : 0 : airplane\n",
      "=============================================\n",
      "Original class logits: tensor([ -9.3963,  11.0548,  -6.8805,  -7.0492, -22.4755, -13.7384,  -5.3635,\n",
      "        -18.7197, -18.5860,  25.2402])\n",
      "Class logits from perturbed encoding: tensor([[ 50.2765,   0.2765,  -0.9139, -10.8110, -22.0753, -16.0456,   0.1183,\n",
      "         -35.4132, -19.4205,  -4.4129]], grad_fn=<AddmmBackward0>)\n",
      "Original class logit in perturbed encoding: -4.412911891937256\n",
      "Required class logit in perturbed encoding: 50.276451110839844\n",
      "Predicted class logit from perturbed encoding: 50.276451110839844\n",
      "Predicted class name from perturbed encoding: airplane\n",
      "=============================================\n",
      "Class logits from perturbed image: tensor([[ 15.6009,   4.6754, -11.3499,  -4.4477, -25.1348, -11.4246,  -4.2723,\n",
      "         -23.7141, -14.7558,   6.4165]], grad_fn=<AddmmBackward0>)\n",
      "Predicted class logit from perturbed image: 15.600906372070312\n",
      "Predicted class name from perturbed image: airplane\n",
      "=============================================\n",
      "=============================================\n"
     ]
    }
   ],
   "source": [
    "for i, (idx, norm_del_image) in enumerate(top_five_least_norm_del_images):\n",
    "    original_class_logits = all_label_logits\n",
    "    class_logits_from_perturbed_encoding = classifier_dense_layer(perturbed_encodings[idx].view(1, -1))\n",
    "    original_class_logit_in_perturbed_encoding = class_logits_from_perturbed_encoding[0, label]\n",
    "    required_class_logit_in_perturbed_encoding = class_logits_from_perturbed_encoding[0, new_class]\n",
    "    predicted_class_logit_from_perturbed_encoding = class_logits_from_perturbed_encoding.max()\n",
    "    predicted_class_name_from_perturbed_encoding = cifar_10_class_names[class_logits_from_perturbed_encoding.argmax()]\n",
    "\n",
    "    perturbed_image = perturbed_images[idx]\n",
    "    encoding_of_perturbed_image = classifier(perturbed_image)[0].squeeze(0)\n",
    "    class_logits_from_perturbed_image = classifier_dense_layer(encoding_of_perturbed_image.view(1, -1))\n",
    "    predicted_class_logit_from_perturbed_image = class_logits_from_perturbed_image.max()\n",
    "    predicted_class_name_from_perturbed_image = cifar_10_class_names[class_logits_from_perturbed_image.argmax()]\n",
    "    required_encoding = perturbed_encodings[idx]\n",
    "    print(f\"Norm of difference in encodings = {F.mse_loss(encoding_of_perturbed_image, required_encoding)}\")\n",
    "    print(f\"Norm of image difference = {torch.norm(perturbed_image - image)}\")\n",
    "    print(f\"Original Class : {label} : {cifar_10_class_names[label]}\")\n",
    "    print(f\"New Class : {new_class} : {cifar_10_class_names[new_class]}\")\n",
    "    print(\"=============================================\")\n",
    "    print(f'Original class logits: {original_class_logits}')\n",
    "    print(f'Class logits from perturbed encoding: {class_logits_from_perturbed_encoding}')\n",
    "    print(f'Original class logit in perturbed encoding: {original_class_logit_in_perturbed_encoding}')\n",
    "    print(f'Required class logit in perturbed encoding: {required_class_logit_in_perturbed_encoding}')\n",
    "    print(f'Predicted class logit from perturbed encoding: {predicted_class_logit_from_perturbed_encoding}')\n",
    "    print(f'Predicted class name from perturbed encoding: {predicted_class_name_from_perturbed_encoding}')\n",
    "    print(\"=============================================\")\n",
    "    print(f'Class logits from perturbed image: {class_logits_from_perturbed_image}')\n",
    "    print(f'Predicted class logit from perturbed image: {predicted_class_logit_from_perturbed_image}')\n",
    "    print(f'Predicted class name from perturbed image: {predicted_class_name_from_perturbed_image}')\n",
    "    print(\"=============================================\")\n",
    "    print(\"=============================================\")"
   ]
  },
  {
   "cell_type": "code",
   "execution_count": null,
   "metadata": {},
   "outputs": [],
   "source": []
  },
  {
   "cell_type": "code",
   "execution_count": 246,
   "metadata": {},
   "outputs": [],
   "source": [
    "# Print all the results\n"
   ]
  }
 ],
 "metadata": {
  "kernelspec": {
   "display_name": "Python 3",
   "language": "python",
   "name": "python3"
  },
  "language_info": {
   "codemirror_mode": {
    "name": "ipython",
    "version": 3
   },
   "file_extension": ".py",
   "mimetype": "text/x-python",
   "name": "python",
   "nbconvert_exporter": "python",
   "pygments_lexer": "ipython3",
   "version": "3.10.12"
  }
 },
 "nbformat": 4,
 "nbformat_minor": 2
}
